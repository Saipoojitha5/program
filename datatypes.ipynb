{
 "cells": [
  {
   "cell_type": "code",
   "execution_count": 1,
   "metadata": {},
   "outputs": [
    {
     "name": "stdout",
     "output_type": "stream",
     "text": [
      "<class 'int'>\n",
      "20\n"
     ]
    }
   ],
   "source": [
    "age=20\n",
    "print(type(age))\n",
    "print(age)"
   ]
  },
  {
   "cell_type": "code",
   "execution_count": 2,
   "metadata": {},
   "outputs": [
    {
     "name": "stdout",
     "output_type": "stream",
     "text": [
      "<class 'float'>\n",
      "53000.0\n"
     ]
    }
   ],
   "source": [
    "sal=53000.00\n",
    "print(type(sal))\n",
    "print(sal)"
   ]
  },
  {
   "cell_type": "code",
   "execution_count": 3,
   "metadata": {},
   "outputs": [
    {
     "name": "stdout",
     "output_type": "stream",
     "text": [
      "<class 'str'>\n",
      "Hello\n"
     ]
    }
   ],
   "source": [
    "var=\"Hello\"\n",
    "print(type(var))\n",
    "print(var)"
   ]
  },
  {
   "cell_type": "code",
   "execution_count": 5,
   "metadata": {},
   "outputs": [
    {
     "name": "stdout",
     "output_type": "stream",
     "text": [
      "<class 'str'>\n",
      "hello im poojitha\n"
     ]
    }
   ],
   "source": [
    "s='hello im poojitha'\n",
    "print(type(var))\n",
    "print(s)\n"
   ]
  },
  {
   "cell_type": "code",
   "execution_count": 11,
   "metadata": {},
   "outputs": [
    {
     "name": "stdout",
     "output_type": "stream",
     "text": [
      "hello im\n",
      "reporter sam,i \"want\" to catch a news\n",
      ",so i can telecast tomorrow.\n"
     ]
    }
   ],
   "source": [
    "sen='''hello im\n",
    "reporter sam,i \"want\" to catch a news\n",
    ",so i can telecast tomorrow.'''\n",
    "print(sen)\n"
   ]
  },
  {
   "cell_type": "code",
   "execution_count": 1,
   "metadata": {},
   "outputs": [
    {
     "name": "stdout",
     "output_type": "stream",
     "text": [
      "hero\n"
     ]
    }
   ],
   "source": [
    "st=\"hero\"\n",
    "print(st)\n"
   ]
  },
  {
   "cell_type": "code",
   "execution_count": 4,
   "metadata": {},
   "outputs": [
    {
     "name": "stdout",
     "output_type": "stream",
     "text": [
      "e\n",
      "h\n",
      "o\n"
     ]
    }
   ],
   "source": [
    "st='hero'\n",
    "v=st[1]\n",
    "print(v)\n",
    "print(st[0])\n",
    "print(st[-1])\n"
   ]
  },
  {
   "cell_type": "code",
   "execution_count": 5,
   "metadata": {},
   "outputs": [
    {
     "name": "stdout",
     "output_type": "stream",
     "text": [
      " \n",
      "r\n",
      "i\n"
     ]
    }
   ],
   "source": [
    "st=\"im a developer\"\n",
    "print(st[2])\n",
    "print(st[-1])\n",
    "print(st[0])\n"
   ]
  },
  {
   "cell_type": "code",
   "execution_count": 6,
   "metadata": {},
   "outputs": [
    {
     "name": "stdout",
     "output_type": "stream",
     "text": [
      "rani\n"
     ]
    }
   ],
   "source": [
    "st=\"dinga\"\n",
    "st=\"rani\"\n",
    "print(st)\n"
   ]
  },
  {
   "cell_type": "code",
   "execution_count": 7,
   "metadata": {},
   "outputs": [
    {
     "name": "stdout",
     "output_type": "stream",
     "text": [
      "aaabbbccc\n"
     ]
    }
   ],
   "source": [
    "st=\"aaabbbccc\"\n",
    "print(st)"
   ]
  },
  {
   "cell_type": "code",
   "execution_count": 8,
   "metadata": {},
   "outputs": [
    {
     "name": "stdout",
     "output_type": "stream",
     "text": [
      "<class 'str'>\n",
      "aaaabbbb\n"
     ]
    }
   ],
   "source": [
    "st=\"aaaabbbb\"\n",
    "print(type(st))\n",
    "print(st)\n"
   ]
  },
  {
   "cell_type": "code",
   "execution_count": 9,
   "metadata": {},
   "outputs": [
    {
     "name": "stdout",
     "output_type": "stream",
     "text": [
      "<class 'list'>\n",
      "[1, 2, 3, 5, 5, 6]\n"
     ]
    }
   ],
   "source": [
    "l=[1,2,3,5,5,6]\n",
    "print(type(l))\n",
    "print(l)\n"
   ]
  },
  {
   "cell_type": "code",
   "execution_count": 11,
   "metadata": {},
   "outputs": [
    {
     "name": "stdout",
     "output_type": "stream",
     "text": [
      "1\n",
      "2\n",
      "3\n"
     ]
    }
   ],
   "source": [
    "l=[1,2,3]\n",
    "print(l[0])\n",
    "print(l[1])\n",
    "print(l[2])\n"
   ]
  },
  {
   "cell_type": "code",
   "execution_count": 2,
   "metadata": {},
   "outputs": [
    {
     "name": "stdout",
     "output_type": "stream",
     "text": [
      "1\n",
      "raja\n",
      "r\n"
     ]
    }
   ],
   "source": [
    "l=[1,2,3,\"raja\"]\n",
    "print(l[0])\n",
    "print(l[-1])\n",
    "print(l[3][0])\n"
   ]
  },
  {
   "cell_type": "code",
   "execution_count": 6,
   "metadata": {},
   "outputs": [
    {
     "name": "stdout",
     "output_type": "stream",
     "text": [
      "50\n",
      "tiger\n",
      "coding\n",
      "m\n",
      "n\n",
      "d\n"
     ]
    }
   ],
   "source": [
    "l1=[50,-250,\"tiger\",\"dream big\",\"coding\"]\n",
    "print(l1[0])\n",
    "print(l1[2])\n",
    "print(l1[-1])\n",
    "print(l1[3][4])\n",
    "print(l1[4][4])\n",
    "print(l1[4][2])\n"
   ]
  },
  {
   "cell_type": "code",
   "execution_count": 1,
   "metadata": {},
   "outputs": [
    {
     "name": "stdout",
     "output_type": "stream",
     "text": [
      "['jack', 'jones'] [0]\n",
      "['jack', 'jones'] [1]\n",
      "['jack', 'jones'] [1] [2]\n"
     ]
    }
   ],
   "source": [
    "l=[[\"jack\",\"jones\"],'donkey']\n",
    "print(l[0],[0])\n",
    "print(l[0],[1])\n",
    "print(l[0],[1],[2])\n"
   ]
  }
 ],
 "metadata": {
  "kernelspec": {
   "display_name": "Python 3",
   "language": "python",
   "name": "python3"
  },
  "language_info": {
   "codemirror_mode": {
    "name": "ipython",
    "version": 3
   },
   "file_extension": ".py",
   "mimetype": "text/x-python",
   "name": "python",
   "nbconvert_exporter": "python",
   "pygments_lexer": "ipython3",
   "version": "3.12.2"
  }
 },
 "nbformat": 4,
 "nbformat_minor": 2
}
