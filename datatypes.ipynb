{
 "cells": [
  {
   "cell_type": "code",
   "execution_count": 1,
   "metadata": {},
   "outputs": [
    {
     "name": "stdout",
     "output_type": "stream",
     "text": [
      "<class 'int'>\n",
      "20\n"
     ]
    }
   ],
   "source": [
    "age=20\n",
    "print(type(age))\n",
    "print(age)"
   ]
  },
  {
   "cell_type": "code",
   "execution_count": 2,
   "metadata": {},
   "outputs": [
    {
     "name": "stdout",
     "output_type": "stream",
     "text": [
      "<class 'float'>\n",
      "53000.0\n"
     ]
    }
   ],
   "source": [
    "sal=53000.00\n",
    "print(type(sal))\n",
    "print(sal)"
   ]
  },
  {
   "cell_type": "code",
   "execution_count": 3,
   "metadata": {},
   "outputs": [
    {
     "name": "stdout",
     "output_type": "stream",
     "text": [
      "<class 'str'>\n",
      "Hello\n"
     ]
    }
   ],
   "source": [
    "var=\"Hello\"\n",
    "print(type(var))\n",
    "print(var)"
   ]
  },
  {
   "cell_type": "code",
   "execution_count": 5,
   "metadata": {},
   "outputs": [
    {
     "name": "stdout",
     "output_type": "stream",
     "text": [
      "<class 'str'>\n",
      "hello im poojitha\n"
     ]
    }
   ],
   "source": [
    "s='hello im poojitha'\n",
    "print(type(var))\n",
    "print(s)\n"
   ]
  },
  {
   "cell_type": "code",
   "execution_count": 11,
   "metadata": {},
   "outputs": [
    {
     "name": "stdout",
     "output_type": "stream",
     "text": [
      "hello im\n",
      "reporter sam,i \"want\" to catch a news\n",
      ",so i can telecast tomorrow.\n"
     ]
    }
   ],
   "source": [
    "sen='''hello im\n",
    "reporter sam,i \"want\" to catch a news\n",
    ",so i can telecast tomorrow.'''\n",
    "print(sen)\n"
   ]
  },
  {
   "cell_type": "code",
   "execution_count": 1,
   "metadata": {},
   "outputs": [
    {
     "name": "stdout",
     "output_type": "stream",
     "text": [
      "hero\n"
     ]
    }
   ],
   "source": [
    "st=\"hero\"\n",
    "print(st)\n"
   ]
  },
  {
   "cell_type": "code",
   "execution_count": 4,
   "metadata": {},
   "outputs": [
    {
     "name": "stdout",
     "output_type": "stream",
     "text": [
      "e\n",
      "h\n",
      "o\n"
     ]
    }
   ],
   "source": [
    "st='hero'\n",
    "v=st[1]\n",
    "print(v)\n",
    "print(st[0])\n",
    "print(st[-1])\n"
   ]
  },
  {
   "cell_type": "code",
   "execution_count": 5,
   "metadata": {},
   "outputs": [
    {
     "name": "stdout",
     "output_type": "stream",
     "text": [
      " \n",
      "r\n",
      "i\n"
     ]
    }
   ],
   "source": [
    "st=\"im a developer\"\n",
    "print(st[2])\n",
    "print(st[-1])\n",
    "print(st[0])\n"
   ]
  },
  {
   "cell_type": "code",
   "execution_count": 6,
   "metadata": {},
   "outputs": [
    {
     "name": "stdout",
     "output_type": "stream",
     "text": [
      "rani\n"
     ]
    }
   ],
   "source": [
    "st=\"dinga\"\n",
    "st=\"rani\"\n",
    "print(st)\n"
   ]
  },
  {
   "cell_type": "code",
   "execution_count": 7,
   "metadata": {},
   "outputs": [
    {
     "name": "stdout",
     "output_type": "stream",
     "text": [
      "aaabbbccc\n"
     ]
    }
   ],
   "source": [
    "st=\"aaabbbccc\"\n",
    "print(st)"
   ]
  },
  {
   "cell_type": "code",
   "execution_count": 8,
   "metadata": {},
   "outputs": [
    {
     "name": "stdout",
     "output_type": "stream",
     "text": [
      "<class 'str'>\n",
      "aaaabbbb\n"
     ]
    }
   ],
   "source": [
    "st=\"aaaabbbb\"\n",
    "print(type(st))\n",
    "print(st)\n"
   ]
  },
  {
   "cell_type": "code",
   "execution_count": 9,
   "metadata": {},
   "outputs": [
    {
     "name": "stdout",
     "output_type": "stream",
     "text": [
      "<class 'list'>\n",
      "[1, 2, 3, 5, 5, 6]\n"
     ]
    }
   ],
   "source": [
    "l=[1,2,3,5,5,6]\n",
    "print(type(l))\n",
    "print(l)\n"
   ]
  },
  {
   "cell_type": "code",
   "execution_count": 11,
   "metadata": {},
   "outputs": [
    {
     "name": "stdout",
     "output_type": "stream",
     "text": [
      "1\n",
      "2\n",
      "3\n"
     ]
    }
   ],
   "source": [
    "l=[1,2,3]\n",
    "print(l[0])\n",
    "print(l[1])\n",
    "print(l[2])\n"
   ]
  },
  {
   "cell_type": "code",
   "execution_count": 2,
   "metadata": {},
   "outputs": [
    {
     "name": "stdout",
     "output_type": "stream",
     "text": [
      "1\n",
      "raja\n",
      "r\n"
     ]
    }
   ],
   "source": [
    "l=[1,2,3,\"raja\"]\n",
    "print(l[0])\n",
    "print(l[-1])\n",
    "print(l[3][0])\n"
   ]
  },
  {
   "cell_type": "code",
   "execution_count": 6,
   "metadata": {},
   "outputs": [
    {
     "name": "stdout",
     "output_type": "stream",
     "text": [
      "50\n",
      "tiger\n",
      "coding\n",
      "m\n",
      "n\n",
      "d\n"
     ]
    }
   ],
   "source": [
    "l1=[50,-250,\"tiger\",\"dream big\",\"coding\"]\n",
    "print(l1[0])\n",
    "print(l1[2])\n",
    "print(l1[-1])\n",
    "print(l1[3][4])\n",
    "print(l1[4][4])\n",
    "print(l1[4][2])\n"
   ]
  },
  {
   "cell_type": "code",
   "execution_count": 2,
   "metadata": {},
   "outputs": [
    {
     "name": "stdout",
     "output_type": "stream",
     "text": [
      "jack\n",
      "jones\n",
      "n\n"
     ]
    }
   ],
   "source": [
    "l=[[\"jack\",\"jones\"],'donkey']\n",
    "print(l[0][0])\n",
    "print(l[0][1])\n",
    "print(l[0][1][2])\n"
   ]
  },
  {
   "cell_type": "code",
   "execution_count": null,
   "metadata": {},
   "outputs": [],
   "source": []
  },
  {
   "cell_type": "code",
   "execution_count": 3,
   "metadata": {},
   "outputs": [
    {
     "name": "stdout",
     "output_type": "stream",
     "text": [
      "hero\n",
      "23\n",
      "<class 'list'>\n"
     ]
    }
   ],
   "source": [
    "l=[[1,[\"hero\",23]]]\n",
    "print(l[0][1][0])\n",
    "print(l[0][1][1])\n",
    "print(type(l))\n"
   ]
  },
  {
   "cell_type": "code",
   "execution_count": 4,
   "metadata": {},
   "outputs": [
    {
     "name": "stdout",
     "output_type": "stream",
     "text": [
      "['raja']\n",
      "['daku']\n"
     ]
    }
   ],
   "source": [
    "l1=[\"raja\"]\n",
    "print(l1)\n",
    "l1[0]=\"daku\"\n",
    "print(l1)"
   ]
  },
  {
   "cell_type": "code",
   "execution_count": 5,
   "metadata": {},
   "outputs": [
    {
     "name": "stdout",
     "output_type": "stream",
     "text": [
      "<class 'tuple'>\n"
     ]
    }
   ],
   "source": [
    "t=(1,2,3)\n",
    "print(type(t))"
   ]
  },
  {
   "cell_type": "code",
   "execution_count": 7,
   "metadata": {},
   "outputs": [
    {
     "name": "stdout",
     "output_type": "stream",
     "text": [
      "<class 'tuple'>\n",
      "1\n",
      "2\n",
      "3\n"
     ]
    }
   ],
   "source": [
    "t=(1,2,3)\n",
    "print(type(t))\n",
    "print(t[0])\n",
    "print(t[1])\n",
    "print(t[2])"
   ]
  },
  {
   "cell_type": "code",
   "execution_count": 8,
   "metadata": {},
   "outputs": [
    {
     "name": "stdout",
     "output_type": "stream",
     "text": [
      "('jack', 'jones')\n",
      "jack\n",
      "e\n"
     ]
    }
   ],
   "source": [
    "t=((\"jack\",\"jones\"),\"donkey\")\n",
    "print(t[0])\n",
    "print(t[0][0])\n",
    "print(t[0][1][3])"
   ]
  },
  {
   "cell_type": "code",
   "execution_count": 1,
   "metadata": {},
   "outputs": [
    {
     "name": "stdout",
     "output_type": "stream",
     "text": [
      "<class 'set'>\n",
      "{1, 2, 3, 4}\n"
     ]
    }
   ],
   "source": [
    "s1={1,2,3,4}\n",
    "print(type(s1))\n",
    "print(s1)"
   ]
  },
  {
   "cell_type": "code",
   "execution_count": 2,
   "metadata": {},
   "outputs": [
    {
     "ename": "SyntaxError",
     "evalue": "invalid syntax (1821392120.py, line 1)",
     "output_type": "error",
     "traceback": [
      "\u001b[1;36m  Cell \u001b[1;32mIn[2], line 1\u001b[1;36m\u001b[0m\n\u001b[1;33m    s2{1,2,3,4}\u001b[0m\n\u001b[1;37m      ^\u001b[0m\n\u001b[1;31mSyntaxError\u001b[0m\u001b[1;31m:\u001b[0m invalid syntax\n"
     ]
    }
   ],
   "source": [
    "s2{1,2,3,4}\n",
    "print(s2[0])"
   ]
  }
 ],
 "metadata": {
  "kernelspec": {
   "display_name": "Python 3",
   "language": "python",
   "name": "python3"
  },
  "language_info": {
   "codemirror_mode": {
    "name": "ipython",
    "version": 3
   },
   "file_extension": ".py",
   "mimetype": "text/x-python",
   "name": "python",
   "nbconvert_exporter": "python",
   "pygments_lexer": "ipython3",
   "version": "3.12.2"
  }
 },
 "nbformat": 4,
 "nbformat_minor": 2
}
