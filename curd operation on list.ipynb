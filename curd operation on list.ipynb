{
 "cells": [
  {
   "cell_type": "code",
   "execution_count": 4,
   "metadata": {},
   "outputs": [
    {
     "name": "stdout",
     "output_type": "stream",
     "text": [
      "[0, 0, 0, 0, 0]\n"
     ]
    }
   ],
   "source": [
    "#create a list\n",
    "list1=[0,0,0,0,0,]\n",
    "print(list1)"
   ]
  },
  {
   "cell_type": "code",
   "execution_count": 5,
   "metadata": {},
   "outputs": [
    {
     "name": "stdout",
     "output_type": "stream",
     "text": [
      "[1, 2, 'raja', 4]\n",
      "1986397913216\n",
      "[1, 2, 'raja', 4]\n",
      "1986397913216\n"
     ]
    }
   ],
   "source": [
    "#reading a complete list\n",
    "list2=[1,2,\"raja\",4]\n",
    "print(list2)\n",
    "print(id(list2))\n",
    "l=list2\n",
    "print(l)\n",
    "print(id(l))"
   ]
  },
  {
   "cell_type": "code",
   "execution_count": 6,
   "metadata": {},
   "outputs": [
    {
     "name": "stdout",
     "output_type": "stream",
     "text": [
      "1\n",
      "3\n",
      "raja\n",
      "j\n"
     ]
    }
   ],
   "source": [
    "#reading single elements\n",
    "list3=[1,2,\"raja\",4]\n",
    "print(list3[0])\n",
    "print(list3[0]+list3[1])\n",
    "v=list3[2]\n",
    "print(v)\n",
    "print(list3[2][2])\n",
    "            "
   ]
  },
  {
   "cell_type": "code",
   "execution_count": 7,
   "metadata": {},
   "outputs": [
    {
     "name": "stdout",
     "output_type": "stream",
     "text": [
      "1986397902464\n",
      "1986391358784\n",
      "[3, 2, 1, 5]\n"
     ]
    }
   ],
   "source": [
    "#udation w.r.t variable\n",
    "l1=[1,2,3]\n",
    "print(id(l1))\n",
    "l1=[3,2,1,5]\n",
    "print(id(l1))\n",
    "print(l1)"
   ]
  }
 ],
 "metadata": {
  "kernelspec": {
   "display_name": "Python 3",
   "language": "python",
   "name": "python3"
  },
  "language_info": {
   "codemirror_mode": {
    "name": "ipython",
    "version": 3
   },
   "file_extension": ".py",
   "mimetype": "text/x-python",
   "name": "python",
   "nbconvert_exporter": "python",
   "pygments_lexer": "ipython3",
   "version": "3.12.2"
  }
 },
 "nbformat": 4,
 "nbformat_minor": 2
}
